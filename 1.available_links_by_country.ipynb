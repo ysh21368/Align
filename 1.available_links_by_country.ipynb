{
 "cells": [
  {
   "cell_type": "markdown",
   "id": "0fc560e2-1f98-49ae-aa11-f1dc24d7552d",
   "metadata": {},
   "source": [
    "1. BeautifulSoup을 사용하여 'https://www.tensorflow.org' 해당페이지에서 링크로 타고 들어갈수 있는 모든 링크데이터 수집\n",
    "2. 데이터 매핑\n",
    "3. 번역 모델에 문장 넣기"
   ]
  },
  {
   "cell_type": "code",
   "execution_count": 5,
   "id": "0509181e-8a3e-49ae-b8af-ba4ea01f0034",
   "metadata": {
    "tags": []
   },
   "outputs": [
    {
     "name": "stdout",
     "output_type": "stream",
     "text": [
      "Requirement already satisfied: requests in ./anaconda3/lib/python3.11/site-packages (2.31.0)\n",
      "Requirement already satisfied: charset-normalizer<4,>=2 in ./anaconda3/lib/python3.11/site-packages (from requests) (2.0.4)\n",
      "Requirement already satisfied: idna<4,>=2.5 in ./anaconda3/lib/python3.11/site-packages (from requests) (3.4)\n",
      "Requirement already satisfied: urllib3<3,>=1.21.1 in ./anaconda3/lib/python3.11/site-packages (from requests) (1.26.18)\n",
      "Requirement already satisfied: certifi>=2017.4.17 in ./anaconda3/lib/python3.11/site-packages (from requests) (2023.7.22)\n",
      "Collecting bs4\n",
      "  Obtaining dependency information for bs4 from https://files.pythonhosted.org/packages/51/bb/bf7aab772a159614954d84aa832c129624ba6c32faa559dfb200a534e50b/bs4-0.0.2-py2.py3-none-any.whl.metadata\n",
      "  Downloading bs4-0.0.2-py2.py3-none-any.whl.metadata (411 bytes)\n",
      "Requirement already satisfied: beautifulsoup4 in ./anaconda3/lib/python3.11/site-packages (from bs4) (4.12.2)\n",
      "Requirement already satisfied: soupsieve>1.2 in ./anaconda3/lib/python3.11/site-packages (from beautifulsoup4->bs4) (2.5)\n",
      "Downloading bs4-0.0.2-py2.py3-none-any.whl (1.2 kB)\n",
      "Installing collected packages: bs4\n",
      "Successfully installed bs4-0.0.2\n"
     ]
    }
   ],
   "source": [
    "!pip install requests\n",
    "!pip install bs4"
   ]
  },
  {
   "cell_type": "code",
   "execution_count": 240,
   "id": "bcb52635-5011-41b8-8ec1-e019482946c0",
   "metadata": {
    "tags": []
   },
   "outputs": [],
   "source": [
    "# BeautifulSoup을 사용하여 'https://www.tensorflow.org' 해당페이지에서 링크로 타고 들어갈수 있는 모든 링크데이터 수집\n",
    "import requests\n",
    "from bs4 import BeautifulSoup\n",
    "\n",
    "class LanguageLinksScraper:\n",
    "    def __init__(self, base_url, language_code=None):\n",
    "        self.base_url = base_url\n",
    "        self.language_code = language_code\n",
    "        self.link_list = []\n",
    "\n",
    "    def get_links(self):\n",
    "        url = self.base_url\n",
    "        if self.language_code:\n",
    "            url += f\"?hl={self.language_code}\"\n",
    "\n",
    "        response = requests.get(url)\n",
    "\n",
    "        if response.status_code == 200:\n",
    "            soup = BeautifulSoup(response.text, 'html.parser')\n",
    "            \n",
    "            # 모든 링크 찾기\n",
    "            links = soup.find_all('a')\n",
    "            \n",
    "            # 링크가 있는 경우에만 처리\n",
    "            for link in links:\n",
    "                href = link.get('href')\n",
    "                if href and \"https://www.\" in href:\n",
    "                    self.link_list.append(href)\n",
    "            # 중복값 제거\n",
    "            self.link_list = list(dict.fromkeys(self.link_list))\n",
    "           \n",
    "\n",
    "    def get_language_links_dict(self):\n",
    "        return {self.language_code: self.link_list}\n",
    "\n",
    "\n",
    "# 각 언어에 대한 LanguageLinksScraper 인스턴스를 생성\n",
    "\n",
    "language_scrapers = {\n",
    "    \"en\": LanguageLinksScraper(\"https://www.tensorflow.org\"),\n",
    "    \"es-419\": LanguageLinksScraper(\"https://www.tensorflow.org\", language_code=\"es-419\"),\n",
    "    \"fr\": LanguageLinksScraper(\"https://www.tensorflow.org\", language_code=\"fr\"),\n",
    "    \"id\": LanguageLinksScraper(\"https://www.tensorflow.org\", language_code=\"id\"),\n",
    "    \"it\": LanguageLinksScraper(\"https://www.tensorflow.org\", language_code=\"it\"),\n",
    "    \"pl\": LanguageLinksScraper(\"https://www.tensorflow.org\", language_code=\"pl\"),\n",
    "    \"pt-br\": LanguageLinksScraper(\"https://www.tensorflow.org\", language_code=\"pt-br\"),\n",
    "    \"vi\": LanguageLinksScraper(\"https://www.tensorflow.org\", language_code=\"vi\"),\n",
    "    \"tr\": LanguageLinksScraper(\"https://www.tensorflow.org\", language_code=\"tr\"),\n",
    "    \"ru\": LanguageLinksScraper(\"https://www.tensorflow.org\", language_code=\"ru\"),\n",
    "    \"he\": LanguageLinksScraper(\"https://www.tensorflow.org\", language_code=\"he\"),\n",
    "    \"ar\": LanguageLinksScraper(\"https://www.tensorflow.org\", language_code=\"ar\"),\n",
    "    \"fa\": LanguageLinksScraper(\"https://www.tensorflow.org\", language_code=\"fa\"),\n",
    "    \"hi\": LanguageLinksScraper(\"https://www.tensorflow.org\", language_code=\"hi\"),\n",
    "    \"bn\": LanguageLinksScraper(\"https://www.tensorflow.org\", language_code=\"bn\"),\n",
    "    \"th\": LanguageLinksScraper(\"https://www.tensorflow.org\", language_code=\"th\"),\n",
    "    \"zh-cn\": LanguageLinksScraper(\"https://www.tensorflow.org\", language_code=\"zh-cn\"),\n",
    "    \"zh-tw\": LanguageLinksScraper(\"https://www.tensorflow.org\", language_code=\"zh-tw\"),\n",
    "    \"ja\": LanguageLinksScraper(\"https://www.tensorflow.org\", language_code=\"ja\"),\n",
    "    \"ko\": LanguageLinksScraper(\"https://www.tensorflow.org\", language_code=\"ko\")\n",
    "}\n",
    "\n",
    "# 각 언어에 대한 링크를 가져옵니다.\n",
    "for language_code, scraper in language_scrapers.items():\n",
    "    scraper.get_links()\n",
    "\n",
    "# 링크를 저장할 딕셔너리를 생성합니다.\n",
    "language_links_dict = {language_code: scraper.link_list for language_code, scraper in language_scrapers.items()}\n"
   ]
  },
  {
   "cell_type": "code",
   "execution_count": 241,
   "id": "11498966-d91c-4fd9-b088-23ecb4e6cefd",
   "metadata": {
    "tags": []
   },
   "outputs": [],
   "source": [
    "# hl뒤에 나오는 language code 제거 로직\n",
    "from urllib.parse import urlparse, parse_qs, urlencode\n",
    "\n",
    "def remove_hl(url):\n",
    "    parsed_url = urlparse(url)\n",
    "    query_params = parse_qs(parsed_url.query)\n",
    "    query_params.pop('hl', None)\n",
    "    new_query = urlencode(query_params, doseq=True)\n",
    "    return parsed_url._replace(query=new_query).geturl()"
   ]
  },
  {
   "cell_type": "code",
   "execution_count": 242,
   "id": "1c883b20-9256-4a10-bb01-9314d30ab2e2",
   "metadata": {
    "tags": []
   },
   "outputs": [],
   "source": [
    "# 'en' 키의 값을 기준으로 다른 키들의 값 중에서 hl 뒤의 값이 일치하지 않는 경우 해당 값을 제거\n",
    "base_key = 'en'\n",
    "base_values = set([remove_hl(url) for url in language_links_dict[base_key]])\n",
    "\n",
    "for lang, urls in language_links_dict.items():\n",
    "    if lang != base_key:\n",
    "        modified_urls = [url for url in urls if remove_hl(url) in base_values]\n",
    "        language_links_dict[lang] = modified_urls"
   ]
  },
  {
   "cell_type": "code",
   "execution_count": 253,
   "id": "91ab061a-9357-4f23-8264-969f978081f5",
   "metadata": {
    "tags": []
   },
   "outputs": [],
   "source": [
    "# 유투브 제거 및 align작업을 할수 없는 링크 제거\n",
    "# 아래 링크는 특정국가의 언어만 있기 때문에 제거해주었음\n",
    "for lang, urls in language_links_dict.items():\n",
    "    language_links_dict[lang] = [url for url in urls if \"https://www.youtube.com\" not in url \n",
    "                                 and url != 'https://www.tensorflow.org/?hl=en' \n",
    "                                 and 'https://www.tensorflow.org/api/stable' not in url \n",
    "                                 and 'https://www.tensorflow.org/resources/libraries-extensions' not in url ]"
   ]
  },
  {
   "cell_type": "code",
   "execution_count": 254,
   "id": "b771ba1b-bbad-4aae-b6f5-b76cb5ad801c",
   "metadata": {
    "tags": []
   },
   "outputs": [],
   "source": [
    "import pickle\n",
    "with open(file='베링랩/scraper_link.pickle', mode='wb') as f:\n",
    "    pickle.dump(language_links_dict, f)"
   ]
  },
  {
   "cell_type": "code",
   "execution_count": 255,
   "id": "f78a6fc4-687a-41a8-b200-606ab10da009",
   "metadata": {
    "tags": []
   },
   "outputs": [
    {
     "data": {
      "text/plain": [
       "21"
      ]
     },
     "execution_count": 255,
     "metadata": {},
     "output_type": "execute_result"
    }
   ],
   "source": [
    "len(language_links_dict['en'])"
   ]
  },
  {
   "cell_type": "code",
   "execution_count": null,
   "id": "6f31c728-20ed-4919-a171-a44f9ff6a50c",
   "metadata": {},
   "outputs": [],
   "source": []
  }
 ],
 "metadata": {
  "kernelspec": {
   "display_name": "Python 3 (ipykernel)",
   "language": "python",
   "name": "python3"
  },
  "language_info": {
   "codemirror_mode": {
    "name": "ipython",
    "version": 3
   },
   "file_extension": ".py",
   "mimetype": "text/x-python",
   "name": "python",
   "nbconvert_exporter": "python",
   "pygments_lexer": "ipython3",
   "version": "3.11.5"
  }
 },
 "nbformat": 4,
 "nbformat_minor": 5
}
